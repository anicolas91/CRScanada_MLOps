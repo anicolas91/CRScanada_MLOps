{
 "cells": [
  {
   "cell_type": "markdown",
   "metadata": {},
   "source": [
    "## Predicting CRS scores\n",
    "We now generate a pipeline that given a specific date, will forecast an estimated CRS cutoff value."
   ]
  },
  {
   "cell_type": "code",
   "execution_count": 10,
   "metadata": {},
   "outputs": [],
   "source": [
    "from utils import splitting as splt\n",
    "from utils import preprocessing as prep\n",
    "\n",
    "import mlflow\n",
    "import pandas as pd\n",
    "from mlflow.tracking import MlflowClient\n"
   ]
  },
  {
   "cell_type": "code",
   "execution_count": 11,
   "metadata": {},
   "outputs": [],
   "source": [
    "query_date = '31-Jul-2024'"
   ]
  },
  {
   "cell_type": "code",
   "execution_count": 12,
   "metadata": {},
   "outputs": [],
   "source": [
    "url = 'https://www.canada.ca/content/dam/ircc/documents/json/ee_rounds_123_en.json'\n",
    "df = prep.create_df_from_website(url)\n",
    "df = prep.cleanup_df_general_rounds(df)\n",
    "\n",
    "# retrieve all the data prior to the query date\n",
    "df_sub = df.loc[df.index < query_date].copy()\n"
   ]
  },
  {
   "cell_type": "code",
   "execution_count": 13,
   "metadata": {},
   "outputs": [],
   "source": [
    "# create a new row just for prediction\n",
    "df_query = df[:0].copy()\n",
    "df_query.loc[query_date,'round type'] = 'General'\n",
    "\n",
    "# set up dummy data\n",
    "df_query.loc[query_date,'invitations issued'] = 0\n",
    "df_query.loc[query_date,'CRS cutoff'] = 0\n"
   ]
  },
  {
   "cell_type": "code",
   "execution_count": 14,
   "metadata": {},
   "outputs": [],
   "source": [
    "# concatenate to older data\n",
    "df = pd.concat([df_query, df_sub])"
   ]
  },
  {
   "cell_type": "code",
   "execution_count": 15,
   "metadata": {},
   "outputs": [],
   "source": [
    "# Calculate independent vars\n",
    "df = prep.calculate_independent_vars(df)"
   ]
  },
  {
   "cell_type": "code",
   "execution_count": 27,
   "metadata": {},
   "outputs": [
    {
     "data": {
      "text/html": [
       "<div>\n",
       "<style scoped>\n",
       "    .dataframe tbody tr th:only-of-type {\n",
       "        vertical-align: middle;\n",
       "    }\n",
       "\n",
       "    .dataframe tbody tr th {\n",
       "        vertical-align: top;\n",
       "    }\n",
       "\n",
       "    .dataframe thead th {\n",
       "        text-align: right;\n",
       "    }\n",
       "</style>\n",
       "<table border=\"1\" class=\"dataframe\">\n",
       "  <thead>\n",
       "    <tr style=\"text-align: right;\">\n",
       "      <th></th>\n",
       "      <th>dt-1</th>\n",
       "      <th>CRS-1</th>\n",
       "    </tr>\n",
       "    <tr>\n",
       "      <th>date</th>\n",
       "      <th></th>\n",
       "      <th></th>\n",
       "    </tr>\n",
       "  </thead>\n",
       "  <tbody>\n",
       "    <tr>\n",
       "      <th>2024-07-31</th>\n",
       "      <td>99.0</td>\n",
       "      <td>529.0</td>\n",
       "    </tr>\n",
       "  </tbody>\n",
       "</table>\n",
       "</div>"
      ],
      "text/plain": [
       "            dt-1  CRS-1\n",
       "date                   \n",
       "2024-07-31  99.0  529.0"
      ]
     },
     "execution_count": 27,
     "metadata": {},
     "output_type": "execute_result"
    }
   ],
   "source": [
    "# get only queried time \n",
    "x_labels=['dt-1','CRS-1']\n",
    "y_labels=['CRS cutoff']\n",
    "X_vals, y_vals = splt.create_features(df,x_labels,y_labels)"
   ]
  },
  {
   "cell_type": "code",
   "execution_count": null,
   "metadata": {},
   "outputs": [],
   "source": [
    "# get model\n",
    "mlflow.set_tracking_uri(\"sqlite:///mlflow.db\")\n",
    "client = MlflowClient()\n",
    "\n",
    "# get run id and set Model name\n",
    "# run_id = best_performace_run.info.run_id\n",
    "# model_uri = f\"runs:/{run_id}/artifacts/model\"\n",
    "\n",
    "model_name = \"CRS_Model\"\n",
    "model_version = 1\n",
    "\n",
    "model = mlflow.pyfunc.load_model(model_uri=f\"models:/{model_name}/{model_version}\")\n",
    "\n",
    "#model = mlflow.pyfunc.load_model(model_uri)"
   ]
  },
  {
   "cell_type": "code",
   "execution_count": null,
   "metadata": {},
   "outputs": [],
   "source": [
    "# evaluate model given these X vals\n",
    "y_vals['CRS cutoff'] = model.predict(X_vals)\n",
    "y_vals\n",
    "\n"
   ]
  },
  {
   "cell_type": "code",
   "execution_count": 17,
   "metadata": {},
   "outputs": [],
   "source": [
    "# roll_times=['30D','60D','90D','180D']\n",
    "\n",
    "# # replace nans wit the closest available rolling average\n",
    "# for i in range(1,len(roll_times)):\n",
    "#     from_roll = f'roll_{roll_times[-i]}'\n",
    "#     to_roll = f'roll_{roll_times[-i-1]}'\n",
    "\n",
    "#     df[to_roll]= np.where(df[to_roll].isna(),df[from_roll],df[to_roll])\n"
   ]
  },
  {
   "cell_type": "code",
   "execution_count": 18,
   "metadata": {},
   "outputs": [],
   "source": [
    "# df"
   ]
  }
 ],
 "metadata": {
  "kernelspec": {
   "display_name": "CRSenv",
   "language": "python",
   "name": "python3"
  },
  "language_info": {
   "codemirror_mode": {
    "name": "ipython",
    "version": 3
   },
   "file_extension": ".py",
   "mimetype": "text/x-python",
   "name": "python",
   "nbconvert_exporter": "python",
   "pygments_lexer": "ipython3",
   "version": "3.12.4"
  }
 },
 "nbformat": 4,
 "nbformat_minor": 2
}
