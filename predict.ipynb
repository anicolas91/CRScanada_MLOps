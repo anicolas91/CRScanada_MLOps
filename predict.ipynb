{
 "cells": [
  {
   "cell_type": "markdown",
   "metadata": {},
   "source": [
    "## Predicting CRS scores\n",
    "We now generate a pipeline that given a specific date, will forecast an estimated CRS cutoff value."
   ]
  },
  {
   "cell_type": "code",
   "execution_count": 34,
   "metadata": {},
   "outputs": [],
   "source": [
    "import os\n",
    "import ast\n",
    "import pickle\n",
    "import mlflow\n",
    "import pandas as pd\n",
    "from mlflow.tracking import MlflowClient\n",
    "\n",
    "from utils import splitting as splt\n",
    "from utils import preprocessing as prep"
   ]
  },
  {
   "cell_type": "code",
   "execution_count": 35,
   "metadata": {},
   "outputs": [],
   "source": [
    "query_date = '31-Jul-2024'"
   ]
  },
  {
   "cell_type": "code",
   "execution_count": 36,
   "metadata": {},
   "outputs": [],
   "source": [
    "url = 'https://www.canada.ca/content/dam/ircc/documents/json/ee_rounds_123_en.json'\n",
    "df = prep.create_df_from_website(url)\n",
    "df = prep.cleanup_df_general_rounds(df)\n",
    "\n",
    "# retrieve all the data prior to the query date\n",
    "df_sub = df.loc[df.index <= query_date].copy()\n"
   ]
  },
  {
   "cell_type": "code",
   "execution_count": 37,
   "metadata": {},
   "outputs": [],
   "source": [
    "# create a new row just for prediction\n",
    "df_query = df[:0].copy()\n",
    "df_query.loc[query_date,'round type'] = 'General'\n",
    "\n",
    "# set up dummy data\n",
    "df_query.loc[query_date,'invitations issued'] = 0\n",
    "df_query.loc[query_date,'CRS cutoff'] = 0\n"
   ]
  },
  {
   "cell_type": "code",
   "execution_count": 38,
   "metadata": {},
   "outputs": [],
   "source": [
    "# concatenate to older data\n",
    "df = pd.concat([df_query, df_sub])"
   ]
  },
  {
   "cell_type": "code",
   "execution_count": 39,
   "metadata": {},
   "outputs": [],
   "source": [
    "# Calculate independent vars\n",
    "df = prep.calculate_independent_vars(df)"
   ]
  },
  {
   "cell_type": "code",
   "execution_count": 40,
   "metadata": {},
   "outputs": [],
   "source": [
    "#retain only top query\n",
    "df = df[:1]"
   ]
  },
  {
   "cell_type": "code",
   "execution_count": 41,
   "metadata": {},
   "outputs": [],
   "source": [
    "# get model\n",
    "mlflow.set_tracking_uri(\"sqlite:///mlflow.db\")\n",
    "client = MlflowClient()\n"
   ]
  },
  {
   "cell_type": "code",
   "execution_count": 42,
   "metadata": {},
   "outputs": [
    {
     "data": {
      "text/plain": [
       "<RegisteredModel: aliases={}, creation_timestamp=1721779326827, description=None, last_updated_timestamp=1721779971269, latest_versions=[<ModelVersion: aliases=[], creation_timestamp=1721779326832, current_stage='Archived', description=None, last_updated_timestamp=1721779971269, name='CRS_Model', run_id='95d5d96e6ef144078192f1c8a248eec3', run_link=None, source=('/Users/andreanicolas/Library/CloudStorage/GoogleDrive-andreanicolas91@gmail.com/My '\n",
       " 'Drive/ASU_ComputerScience/CRScanda_MLOps/mlruns/1/95d5d96e6ef144078192f1c8a248eec3/artifacts/model'), status='READY', status_message=None, tags={}, user_id=None, version=1>,\n",
       " <ModelVersion: aliases=[], creation_timestamp=1721779971259, current_stage='Production', description=None, last_updated_timestamp=1721779971269, name='CRS_Model', run_id='24b3c7fbc4dc409499f4641c720a2b82', run_link=None, source=('/Users/andreanicolas/Library/CloudStorage/GoogleDrive-andreanicolas91@gmail.com/My '\n",
       " 'Drive/ASU_ComputerScience/CRScanda_MLOps/mlruns/1/24b3c7fbc4dc409499f4641c720a2b82/artifacts/models'), status='READY', status_message=None, tags={}, user_id=None, version=2>], name='CRS_Model', tags={}>"
      ]
     },
     "execution_count": 42,
     "metadata": {},
     "output_type": "execute_result"
    }
   ],
   "source": [
    "name = \"CRS_Model\"\n",
    "mymodel = client.get_registered_model(name)\n",
    "mymodel"
   ]
  },
  {
   "cell_type": "code",
   "execution_count": 43,
   "metadata": {},
   "outputs": [
    {
     "name": "stdout",
     "output_type": "stream",
     "text": [
      "24b3c7fbc4dc409499f4641c720a2b82\n"
     ]
    }
   ],
   "source": [
    "# get the run id for the production model\n",
    "for lv in mymodel.latest_versions:\n",
    "    stage = lv.current_stage\n",
    "    if stage == 'Production':\n",
    "        run_id = lv.run_id\n",
    "        print(run_id)\n",
    "\n"
   ]
  },
  {
   "cell_type": "code",
   "execution_count": 44,
   "metadata": {},
   "outputs": [],
   "source": [
    "# Get the details of the run\n",
    "run_info = client.get_run(run_id)\n",
    "\n",
    "# Retrieve the x_label from parameters\n",
    "params = run_info.data.params\n",
    "x_labels = ast.literal_eval(params['x_labels'])\n",
    "\n",
    "# retrieve the label from the tags\n",
    "tags = run_info.data.tags\n",
    "model_type = tags['model_type']"
   ]
  },
  {
   "cell_type": "code",
   "execution_count": 45,
   "metadata": {},
   "outputs": [],
   "source": [
    "# get only queried time \n",
    "X_vals, _ = splt.create_features(df,x_labels=x_labels,y_labels=['CRS cutoff'])"
   ]
  },
  {
   "cell_type": "code",
   "execution_count": 46,
   "metadata": {},
   "outputs": [],
   "source": [
    "model_filename = f'./models/{model_type}_model.bin'\n",
    "local_path = client.download_artifacts(run_id, model_filename,'./')\n",
    "\n",
    "# Load the pickle model\n",
    "with open(model_filename, \"rb\") as f:\n",
    "    model = pickle.load(f)\n"
   ]
  },
  {
   "cell_type": "code",
   "execution_count": 47,
   "metadata": {},
   "outputs": [],
   "source": [
    "# evaluate model given these X vals\n",
    "y_pred = model.predict(X_vals)[0][0]\n"
   ]
  },
  {
   "cell_type": "code",
   "execution_count": 48,
   "metadata": {},
   "outputs": [
    {
     "data": {
      "text/html": [
       "<div>\n",
       "<style scoped>\n",
       "    .dataframe tbody tr th:only-of-type {\n",
       "        vertical-align: middle;\n",
       "    }\n",
       "\n",
       "    .dataframe tbody tr th {\n",
       "        vertical-align: top;\n",
       "    }\n",
       "\n",
       "    .dataframe thead th {\n",
       "        text-align: right;\n",
       "    }\n",
       "</style>\n",
       "<table border=\"1\" class=\"dataframe\">\n",
       "  <thead>\n",
       "    <tr style=\"text-align: right;\">\n",
       "      <th></th>\n",
       "      <th>date</th>\n",
       "      <th>round type</th>\n",
       "      <th>CRS cutoff predicted</th>\n",
       "    </tr>\n",
       "  </thead>\n",
       "  <tbody>\n",
       "    <tr>\n",
       "      <th>0</th>\n",
       "      <td>31-Jul-2024</td>\n",
       "      <td>General</td>\n",
       "      <td>535.486231</td>\n",
       "    </tr>\n",
       "  </tbody>\n",
       "</table>\n",
       "</div>"
      ],
      "text/plain": [
       "          date round type  CRS cutoff predicted\n",
       "0  31-Jul-2024    General            535.486231"
      ]
     },
     "execution_count": 48,
     "metadata": {},
     "output_type": "execute_result"
    }
   ],
   "source": [
    "# creating the final results df\n",
    "df_result = pd.DataFrame()\n",
    "df_result['date'] = [query_date]\n",
    "df_result['round type'] = ['General']\n",
    "df_result['CRS cutoff predicted'] = [y_pred]\n",
    "df_result\n"
   ]
  },
  {
   "cell_type": "code",
   "execution_count": 49,
   "metadata": {},
   "outputs": [],
   "source": [
    "\n",
    "# saving as parquet fil\n",
    "output_file=f'./outputs/predicted_CRS_{query_date}.parquet'\n",
    "# create any directories if does not exist\n",
    "os.makedirs(os.path.dirname(output_file), exist_ok=True)\n",
    "\n",
    "df_result.to_parquet(\n",
    "    output_file,\n",
    "    engine='pyarrow',\n",
    "    compression=None,\n",
    "    index=False\n",
    ")\n"
   ]
  }
 ],
 "metadata": {
  "kernelspec": {
   "display_name": "CRSenv",
   "language": "python",
   "name": "python3"
  },
  "language_info": {
   "codemirror_mode": {
    "name": "ipython",
    "version": 3
   },
   "file_extension": ".py",
   "mimetype": "text/x-python",
   "name": "python",
   "nbconvert_exporter": "python",
   "pygments_lexer": "ipython3",
   "version": "3.12.4"
  }
 },
 "nbformat": 4,
 "nbformat_minor": 2
}
